{
  "nbformat": 4,
  "nbformat_minor": 0,
  "metadata": {
    "colab": {
      "name": "talk_botipynb",
      "provenance": [],
      "authorship_tag": "ABX9TyPf0s/xWCV1zD+dQZidMJky",
      "include_colab_link": true
    },
    "kernelspec": {
      "name": "python3",
      "display_name": "Python 3"
    },
    "language_info": {
      "name": "python"
    }
  },
  "cells": [
    {
      "cell_type": "markdown",
      "metadata": {
        "id": "view-in-github",
        "colab_type": "text"
      },
      "source": [
        "<a href=\"https://colab.research.google.com/github/AshishK0171/internship/blob/main/talk_botipynb.ipynb\" target=\"_parent\"><img src=\"https://colab.research.google.com/assets/colab-badge.svg\" alt=\"Open In Colab\"/></a>"
      ]
    },
    {
      "cell_type": "markdown",
      "metadata": {
        "id": "aW9yeOn6KAed"
      },
      "source": [
        "#TALK-BOT using machine learning\n",
        "##the user and the computer should be able to communicate with only voice"
      ]
    },
    {
      "cell_type": "code",
      "metadata": {
        "id": "wXcc6K5bVQLe"
      },
      "source": [
        "pip install chatterbot\n"
      ],
      "execution_count": null,
      "outputs": []
    },
    {
      "cell_type": "code",
      "metadata": {
        "id": "RMXFuHDMIXWX"
      },
      "source": [
        "pip install chatterbot-corpus"
      ],
      "execution_count": null,
      "outputs": []
    },
    {
      "cell_type": "code",
      "metadata": {
        "id": "bTNG8MnqViv5"
      },
      "source": [
        "pip install gTTS"
      ],
      "execution_count": null,
      "outputs": []
    },
    {
      "cell_type": "code",
      "metadata": {
        "id": "HrxEMmTVCWEf"
      },
      "source": [
        "pip install SpeechRecognition"
      ],
      "execution_count": null,
      "outputs": []
    },
    {
      "cell_type": "markdown",
      "metadata": {
        "id": "wqjc9l5JJ2uo"
      },
      "source": [
        "colab doesnt allow to directly install pyaudio"
      ]
    },
    {
      "cell_type": "code",
      "metadata": {
        "id": "5njqDqUiAsqU"
      },
      "source": [
        "!apt install libasound2-dev portaudio19-dev libportaudio2 libportaudiocpp0 ffmpeg"
      ],
      "execution_count": null,
      "outputs": []
    },
    {
      "cell_type": "code",
      "metadata": {
        "id": "76HgwjadA3qG"
      },
      "source": [
        "pip install pyaudio\n"
      ],
      "execution_count": null,
      "outputs": []
    },
    {
      "cell_type": "code",
      "metadata": {
        "id": "Y2O8rb-UIkYI"
      },
      "source": [
        "!pip install playsound"
      ],
      "execution_count": null,
      "outputs": []
    },
    {
      "cell_type": "markdown",
      "metadata": {
        "id": "fTyk1reuJhvr"
      },
      "source": [
        "#importing all the required libraries/modules"
      ]
    },
    {
      "cell_type": "code",
      "metadata": {
        "id": "zpj28qlZdLxb"
      },
      "source": [
        "from chatterbot import ChatBot\n",
        "bot = ChatBot('Chotu')"
      ],
      "execution_count": null,
      "outputs": []
    },
    {
      "cell_type": "code",
      "metadata": {
        "id": "iKZP0Wi7gkPn"
      },
      "source": [
        "#load the algorithm\n",
        "from chatterbot.trainers import ChatterBotCorpusTrainer"
      ],
      "execution_count": null,
      "outputs": []
    },
    {
      "cell_type": "code",
      "metadata": {
        "id": "ZeaLAr1Fh5w_"
      },
      "source": [
        "#set the trainer\n",
        "# bot.train(ChatterBotCorpusTrainer)\n",
        "trainer = ChatterBotCorpusTrainer(bot)"
      ],
      "execution_count": null,
      "outputs": []
    },
    {
      "cell_type": "code",
      "metadata": {
        "id": "YF3Bx2WkHc9P"
      },
      "source": [
        "trainer.train(\"chatterbot.corpus.english\")"
      ],
      "execution_count": null,
      "outputs": []
    },
    {
      "cell_type": "code",
      "metadata": {
        "id": "ZJQvoLY5pkIP"
      },
      "source": [
        "\n",
        "from gtts import gTTS\n",
        "from IPython.display import Audio"
      ],
      "execution_count": null,
      "outputs": []
    },
    {
      "cell_type": "code",
      "metadata": {
        "id": "tsYqBem1Dcak"
      },
      "source": [
        "import speech_recognition as sr"
      ],
      "execution_count": null,
      "outputs": []
    },
    {
      "cell_type": "code",
      "metadata": {
        "id": "5cUZF7haItUH"
      },
      "source": [
        "from playsound import playsound"
      ],
      "execution_count": null,
      "outputs": []
    },
    {
      "cell_type": "markdown",
      "metadata": {
        "id": "vgVut2wwHqtH"
      },
      "source": [
        "#the below function is used to get the audio from the user \n",
        "#this is achieved using the pyaudio and speech recognition libraries"
      ]
    },
    {
      "cell_type": "code",
      "metadata": {
        "id": "4hgs7WG9DKi-"
      },
      "source": [
        "def get_audio():\n",
        "\tr = sr.Recognizer()\n",
        "#  sr.Microphone.list_microphone_names()\n",
        "\twith sr.Microphone() as source:\n",
        "\t\taudio = r.listen(source)\n",
        "\t\tsaid = \"\"\n",
        "\n",
        "\t\ttry:\n",
        "\t\t    said = r.recognize_google(audio)\n",
        "\t\t    print(said)\n",
        "\t\texcept Exception as e:\n",
        "\t\t    print(\"Exception: \" + str(e))\n",
        "\n",
        "\treturn said"
      ],
      "execution_count": null,
      "outputs": []
    },
    {
      "cell_type": "markdown",
      "metadata": {
        "id": "8GE9fFeIHJDq"
      },
      "source": [
        "# the following function converts the text based reply of our 'chat-bot' to speech using the speech gTTs module \n",
        "# this makes our 'Talk-bot'"
      ]
    },
    {
      "cell_type": "code",
      "metadata": {
        "id": "2BYhwJIZEtLg"
      },
      "source": [
        " def bot_audio(x):\n",
        "\n",
        "   \n",
        "   tts = gTTS(text=x, lang='en')\n",
        "   tts.save('1.wav')\n",
        "   sound_file = '1.wav'\n",
        "   return sound_file"
      ],
      "execution_count": null,
      "outputs": []
    },
    {
      "cell_type": "markdown",
      "metadata": {
        "id": "RwzDqoayRnoe"
      },
      "source": [
        "the nex part is the code which calls the get_audio function, goes through the pretrained model and the expected response is then converted to speech(bot_audio) from text "
      ]
    },
    {
      "cell_type": "code",
      "metadata": {
        "id": "1TBXq8LCjaJh"
      },
      "source": [
        "#interaction part\n",
        "while True:\n",
        "  \n",
        "  \n",
        "\n",
        "# obtain audio from the microphone\n",
        "  \n",
        "  # message=input('You ')\n",
        "  print('speak now')\n",
        "  message = get_audio()\n",
        "  print('you '+message)\n",
        "  if message=='Bye' or message == 'bye':\n",
        "    reply='Ok bye. Have a great day'\n",
        "    bot_audio(reply)\n",
        "    \n",
        "\n",
        "    print('{} : {}'.format(bot.name,reply))\n",
        "    break\n",
        "  else:\n",
        "    reply = bot.get_response(message)  \n",
        "    x=str(reply)\n",
        "    print('{} : {}'.format(bot.name,reply))\n",
        "    fil=bot_audio(x)\n",
        "    # playsound(fil)\n",
        "  Audio(fil, autoplay=True)\n",
        "\n",
        "    "
      ],
      "execution_count": null,
      "outputs": []
    },
    {
      "cell_type": "code",
      "metadata": {
        "colab": {
          "base_uri": "https://localhost:8080/",
          "height": 74
        },
        "id": "dhXoVXxyK4tW",
        "outputId": "54366e00-6d38-41f7-f4ee-047ae1fa8dcc"
      },
      "source": [
        "Audio(fil, autoplay=True)"
      ],
      "execution_count": null,
      "outputs": [
        {
          "output_type": "execute_result",
          "data": {
            "text/html": [
              "\n",
              "                <audio controls=\"controls\" autoplay=\"autoplay\">\n",
              "                    <source src=\"data:audio/x-wav;base64,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\" type=\"audio/x-wav\" />\n",
              "                    Your browser does not support the audio element.\n",
              "                </audio>\n",
              "              "
            ],
            "text/plain": [
              "<IPython.lib.display.Audio object>"
            ]
          },
          "metadata": {
            "tags": []
          },
          "execution_count": 51
        }
      ]
    }
  ]
}